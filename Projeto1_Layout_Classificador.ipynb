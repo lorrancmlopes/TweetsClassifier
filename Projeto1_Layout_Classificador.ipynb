{
 "cells": [
  {
   "cell_type": "markdown",
   "metadata": {},
   "source": [
    "# Projeto 1 - Ciência dos Dados"
   ]
  },
  {
   "cell_type": "markdown",
   "metadata": {},
   "source": [
    "Nome:Lorran Caetano Machado Lopes\n",
    "\n",
    "Nome: Nívea de Abreu Dantas Lima"
   ]
  },
  {
   "cell_type": "markdown",
   "metadata": {},
   "source": [
    "Atenção: Serão permitidos grupos de três pessoas, mas com uma rubrica mais exigente. Grupos deste tamanho precisarão fazer um questionário de avaliação de trabalho em equipe"
   ]
  },
  {
   "cell_type": "markdown",
   "metadata": {},
   "source": [
    "___\n",
    "Carregando algumas bibliotecas:"
   ]
  },
  {
   "cell_type": "code",
   "execution_count": 2,
   "metadata": {},
   "outputs": [],
   "source": [
    "%matplotlib inline\n",
    "import pandas as pd\n",
    "import matplotlib.pyplot as plt\n",
    "import numpy as np\n",
    "import os\n",
    "from sklearn.model_selection import train_test_split"
   ]
  },
  {
   "cell_type": "code",
   "execution_count": 3,
   "metadata": {
    "scrolled": false
   },
   "outputs": [
    {
     "name": "stdout",
     "output_type": "stream",
     "text": [
      "Esperamos trabalhar no diretório\n",
      "C:\\Users\\lorra\\OneDrive\\Área de Trabalho\\Ciencia dos Dados\\P1\\TweetsClassifier\n"
     ]
    }
   ],
   "source": [
    "print('Esperamos trabalhar no diretório')\n",
    "print(os.getcwd())"
   ]
  },
  {
   "cell_type": "markdown",
   "metadata": {},
   "source": [
    "Carregando a base de dados com os tweets classificados como relevantes e não relevantes:"
   ]
  },
  {
   "cell_type": "code",
   "execution_count": 4,
   "metadata": {},
   "outputs": [],
   "source": [
    "filename = 'cocacola.xlsx'"
   ]
  },
  {
   "cell_type": "code",
   "execution_count": 5,
   "metadata": {},
   "outputs": [
    {
     "data": {
      "text/html": [
       "<div>\n",
       "<style scoped>\n",
       "    .dataframe tbody tr th:only-of-type {\n",
       "        vertical-align: middle;\n",
       "    }\n",
       "\n",
       "    .dataframe tbody tr th {\n",
       "        vertical-align: top;\n",
       "    }\n",
       "\n",
       "    .dataframe thead th {\n",
       "        text-align: right;\n",
       "    }\n",
       "</style>\n",
       "<table border=\"1\" class=\"dataframe\">\n",
       "  <thead>\n",
       "    <tr style=\"text-align: right;\">\n",
       "      <th></th>\n",
       "      <th>Treinamento</th>\n",
       "      <th>Relevância</th>\n",
       "    </tr>\n",
       "  </thead>\n",
       "  <tbody>\n",
       "    <tr>\n",
       "      <th>0</th>\n",
       "      <td>@kchorrolooko @cocacola_br essa é a melhor bat...</td>\n",
       "      <td>0</td>\n",
       "    </tr>\n",
       "    <tr>\n",
       "      <th>1</th>\n",
       "      <td>@cocacola_br @_evertonalmeida #coquinhagelada ...</td>\n",
       "      <td>1</td>\n",
       "    </tr>\n",
       "    <tr>\n",
       "      <th>2</th>\n",
       "      <td>@juliettefreirec @bbb @joaoluizpedrosa @cocaco...</td>\n",
       "      <td>0</td>\n",
       "    </tr>\n",
       "    <tr>\n",
       "      <th>3</th>\n",
       "      <td>#nowplaying  \\n[  nicki minaj - super bass  ]\\...</td>\n",
       "      <td>1</td>\n",
       "    </tr>\n",
       "    <tr>\n",
       "      <th>4</th>\n",
       "      <td>#nowplaying  \\n[  nick jonas - spaceman  ]\\nen...</td>\n",
       "      <td>1</td>\n",
       "    </tr>\n",
       "    <tr>\n",
       "      <th>5</th>\n",
       "      <td>@reprincesa_ temos uma oferta perfeita pra voc...</td>\n",
       "      <td>1</td>\n",
       "    </tr>\n",
       "    <tr>\n",
       "      <th>6</th>\n",
       "      <td>@jaefson nossa! 🔥 quando o amor invade, é semp...</td>\n",
       "      <td>1</td>\n",
       "    </tr>\n",
       "    <tr>\n",
       "      <th>7</th>\n",
       "      <td>@cocacola_br porra arrasou, so ta o preço do m...</td>\n",
       "      <td>1</td>\n",
       "    </tr>\n",
       "    <tr>\n",
       "      <th>8</th>\n",
       "      <td>@a_mxnds ei, espera um pouco. vamos deixar ess...</td>\n",
       "      <td>1</td>\n",
       "    </tr>\n",
       "    <tr>\n",
       "      <th>9</th>\n",
       "      <td>@juliaacc a cara do glamour. arrasaram muito 😎</td>\n",
       "      <td>0</td>\n",
       "    </tr>\n",
       "  </tbody>\n",
       "</table>\n",
       "</div>"
      ],
      "text/plain": [
       "                                         Treinamento  Relevância\n",
       "0  @kchorrolooko @cocacola_br essa é a melhor bat...           0\n",
       "1  @cocacola_br @_evertonalmeida #coquinhagelada ...           1\n",
       "2  @juliettefreirec @bbb @joaoluizpedrosa @cocaco...           0\n",
       "3  #nowplaying  \\n[  nicki minaj - super bass  ]\\...           1\n",
       "4  #nowplaying  \\n[  nick jonas - spaceman  ]\\nen...           1\n",
       "5  @reprincesa_ temos uma oferta perfeita pra voc...           1\n",
       "6  @jaefson nossa! 🔥 quando o amor invade, é semp...           1\n",
       "7  @cocacola_br porra arrasou, so ta o preço do m...           1\n",
       "8  @a_mxnds ei, espera um pouco. vamos deixar ess...           1\n",
       "9     @juliaacc a cara do glamour. arrasaram muito 😎           0"
      ]
     },
     "execution_count": 5,
     "metadata": {},
     "output_type": "execute_result"
    }
   ],
   "source": [
    "train = pd.read_excel(filename)\n",
    "train.head(10)\n",
    "\n"
   ]
  },
  {
   "cell_type": "code",
   "execution_count": 6,
   "metadata": {},
   "outputs": [
    {
     "data": {
      "text/html": [
       "<div>\n",
       "<style scoped>\n",
       "    .dataframe tbody tr th:only-of-type {\n",
       "        vertical-align: middle;\n",
       "    }\n",
       "\n",
       "    .dataframe tbody tr th {\n",
       "        vertical-align: top;\n",
       "    }\n",
       "\n",
       "    .dataframe thead th {\n",
       "        text-align: right;\n",
       "    }\n",
       "</style>\n",
       "<table border=\"1\" class=\"dataframe\">\n",
       "  <thead>\n",
       "    <tr style=\"text-align: right;\">\n",
       "      <th></th>\n",
       "      <th>Teste</th>\n",
       "      <th>Relevância</th>\n",
       "    </tr>\n",
       "  </thead>\n",
       "  <tbody>\n",
       "    <tr>\n",
       "      <th>0</th>\n",
       "      <td>rt @sysa86: @bbb @cocacola_br o bbb21 virou um...</td>\n",
       "      <td>0</td>\n",
       "    </tr>\n",
       "    <tr>\n",
       "      <th>1</th>\n",
       "      <td>@cocacola_br coca cola te amo meu refrigerante...</td>\n",
       "      <td>1</td>\n",
       "    </tr>\n",
       "    <tr>\n",
       "      <th>2</th>\n",
       "      <td>@karolinemourab tem vezes que a vontade bate, ...</td>\n",
       "      <td>1</td>\n",
       "    </tr>\n",
       "    <tr>\n",
       "      <th>3</th>\n",
       "      <td>@kikiilda sede de coquinha? clica aqui 👉 https...</td>\n",
       "      <td>1</td>\n",
       "    </tr>\n",
       "    <tr>\n",
       "      <th>4</th>\n",
       "      <td>@sysa86 @bbb @cocacola_br exatamente e eu amo ...</td>\n",
       "      <td>0</td>\n",
       "    </tr>\n",
       "    <tr>\n",
       "      <th>5</th>\n",
       "      <td>#nowplaying  \\n[  maroon 5 - beautiful mistake...</td>\n",
       "      <td>1</td>\n",
       "    </tr>\n",
       "    <tr>\n",
       "      <th>6</th>\n",
       "      <td>@carlabuenoe é pra já! 🥰 caminhão do desconto ...</td>\n",
       "      <td>1</td>\n",
       "    </tr>\n",
       "    <tr>\n",
       "      <th>7</th>\n",
       "      <td>@bbb cineminha, coquinha gelada e amigos = mel...</td>\n",
       "      <td>1</td>\n",
       "    </tr>\n",
       "    <tr>\n",
       "      <th>8</th>\n",
       "      <td>@ddeysi2 humm... almocinho top! 😋 mas que tal ...</td>\n",
       "      <td>1</td>\n",
       "    </tr>\n",
       "    <tr>\n",
       "      <th>9</th>\n",
       "      <td>@jenifer_alineee que tal uma mudança nos plano...</td>\n",
       "      <td>1</td>\n",
       "    </tr>\n",
       "  </tbody>\n",
       "</table>\n",
       "</div>"
      ],
      "text/plain": [
       "                                               Teste  Relevância\n",
       "0  rt @sysa86: @bbb @cocacola_br o bbb21 virou um...           0\n",
       "1  @cocacola_br coca cola te amo meu refrigerante...           1\n",
       "2  @karolinemourab tem vezes que a vontade bate, ...           1\n",
       "3  @kikiilda sede de coquinha? clica aqui 👉 https...           1\n",
       "4  @sysa86 @bbb @cocacola_br exatamente e eu amo ...           0\n",
       "5  #nowplaying  \\n[  maroon 5 - beautiful mistake...           1\n",
       "6  @carlabuenoe é pra já! 🥰 caminhão do desconto ...           1\n",
       "7  @bbb cineminha, coquinha gelada e amigos = mel...           1\n",
       "8  @ddeysi2 humm... almocinho top! 😋 mas que tal ...           1\n",
       "9  @jenifer_alineee que tal uma mudança nos plano...           1"
      ]
     },
     "execution_count": 6,
     "metadata": {},
     "output_type": "execute_result"
    }
   ],
   "source": [
    "test = pd.read_excel(filename, sheet_name = 'Teste')\n",
    "test.head(10)\n"
   ]
  },
  {
   "cell_type": "code",
   "execution_count": 7,
   "metadata": {},
   "outputs": [
    {
     "data": {
      "text/plain": [
       "1    0.554054\n",
       "0    0.445946\n",
       "Name: Relevância, dtype: float64"
      ]
     },
     "execution_count": 7,
     "metadata": {},
     "output_type": "execute_result"
    }
   ],
   "source": [
    "train.Relevância.value_counts(True) #"
   ]
  },
  {
   "cell_type": "markdown",
   "metadata": {},
   "source": [
    "___\n",
    "## Classificador automático de sentimento\n"
   ]
  },
  {
   "cell_type": "markdown",
   "metadata": {},
   "source": [
    "Faça aqui uma descrição do seu produto e o que considerou como relevante ou não relevante na classificação dos tweets.\n",
    "\n",
    "O produto em questão é a Coca-cola, e consideramos como relevantes os tweets que continham propagandas com promoções, marcações das pessoas que falavam tanto bem quanto teciam críticas ao produto. Além disso, consideramos como irrelevanes tweets que marcavam o produto de forma aleatória sem transmitir uma postagem coerente a menção. "
   ]
  },
  {
   "cell_type": "markdown",
   "metadata": {},
   "source": [
    "___\n",
    "### Montando um Classificador Naive-Bayes\n",
    "\n",
    "Considerando apenas as mensagens da planilha Treinamento, ensine  seu classificador."
   ]
  },
  {
   "cell_type": "markdown",
   "metadata": {},
   "source": [
    "Abaixo definimos uma função de limpeza para remover os caracteres: enter, :, \", ', (, ), etc e manter os emojis, além de corrigir os espaçamentos. "
   ]
  },
  {
   "cell_type": "code",
   "execution_count": 8,
   "metadata": {},
   "outputs": [],
   "source": [
    "import re \n",
    "from nltk.tokenize.casual import TweetTokenizer #importando....\n",
    "\n",
    "\n",
    "def cleanup(text):\n",
    "    \"\"\"\n",
    "        Função de limpeza\n",
    "        \n",
    "    \"\"\"\n",
    "    punctuation = '[\\[\\]@!-_.:?;]' #remoção de pontuação, @ e []\n",
    "    pattern = re.compile(punctuation)\n",
    "    text_subbed = re.sub(pattern, '', text)\n",
    "    text_subbed = re.sub(' +', ' ', text_subbed)\n",
    "    text_subbed = text_subbed.lower()\n",
    "    text_subbed = re.sub(r'http\\S+', '', text_subbed) #remove links\n",
    "    t = TweetTokenizer()\n",
    "    text_subbed = t.tokenize(text_subbed) #remover emojissss\n",
    "    \n",
    "    return text_subbed"
   ]
  },
  {
   "cell_type": "code",
   "execution_count": 10,
   "metadata": {},
   "outputs": [],
   "source": [
    "i = train.Treinamento[0]\n",
    "tweet_limpo = cleanup(i)"
   ]
  },
  {
   "cell_type": "code",
   "execution_count": 54,
   "metadata": {},
   "outputs": [],
   "source": [
    "#Percorrendo os tweets para aplicar a função de limpeza, seprarndo em listas de palavras\n",
    "relevante = []\n",
    "irrelevante = []\n",
    "\n",
    "j = 0\n",
    "for i in train.Treinamento:\n",
    "    tweetl = cleanup(i)\n",
    "    if train.Relevância[j] == 1:\n",
    "        # Guardando as palavras dos tweets relevantes como lista \n",
    "        relevante += tweetl\n",
    "    else:\n",
    "        # Guardando as palavras dos tweets irrelevantes como lista \n",
    "        irrelevante += tweetl\n",
    "        \n",
    "    j += 1\n"
   ]
  },
  {
   "cell_type": "markdown",
   "metadata": {},
   "source": [
    "Criando um conjunto com todas as palavras dos tweets relevantes e irrelevantes:"
   ]
  },
  {
   "cell_type": "code",
   "execution_count": 55,
   "metadata": {},
   "outputs": [],
   "source": [
    "# Guardando as palavras relevantes em um pd.Series  \n",
    "serie_relevante = pd.Series(relevante)\n",
    "# Guardando as palavras irrelevantes em um pd.Series  \n",
    "serie_irrelevante = pd.Series(irrelevante)"
   ]
  },
  {
   "cell_type": "markdown",
   "metadata": {},
   "source": [
    "#### Frequências absolutas"
   ]
  },
  {
   "cell_type": "markdown",
   "metadata": {},
   "source": [
    "Palavras em um texto são variáveis **qualitativas nominais**, portanto usaremos `value_counts()` para obter a tabela de frequências relativas e absolutas:"
   ]
  },
  {
   "cell_type": "code",
   "execution_count": 56,
   "metadata": {},
   "outputs": [],
   "source": [
    "# Como tabela_relevante é uma pd.Series, podemos usar value_counts() nessa variável\n",
    "tabela_relevante = serie_relevante.value_counts()\n"
   ]
  },
  {
   "cell_type": "code",
   "execution_count": 57,
   "metadata": {},
   "outputs": [],
   "source": [
    "tabela_irrelevante = serie_irrelevante.value_counts()"
   ]
  },
  {
   "cell_type": "markdown",
   "metadata": {},
   "source": [
    "#### Frequências relativas"
   ]
  },
  {
   "cell_type": "code",
   "execution_count": 58,
   "metadata": {},
   "outputs": [],
   "source": [
    "tabela_relevante_relativa = serie_relevante.value_counts(True)"
   ]
  },
  {
   "cell_type": "code",
   "execution_count": 59,
   "metadata": {},
   "outputs": [],
   "source": [
    "tabela_irrelevante_relativa = serie_irrelevante.value_counts(True)"
   ]
  },
  {
   "cell_type": "code",
   "execution_count": 60,
   "metadata": {},
   "outputs": [],
   "source": [
    "total = relevante + irrelevante\n",
    "todas_palavras = pd.Series(total)\n",
    "todas_palavras\n",
    "\n",
    "\n",
    "\n",
    "todas_palavras_relativa = todas_palavras.value_counts(True)"
   ]
  },
  {
   "cell_type": "markdown",
   "metadata": {},
   "source": [
    "## Classificação de um tweet: Relevante ou Irrelevante?\n",
    "\n",
    "Agora vamos ao problema que queremos resolver.\n",
    "\n",
    "Precisamos dizer se um dado tweetcé mais provável de ser *Relevante* ou *Irrelevante*.\n",
    "\n",
    "Ou seja, precisa decidir: \n",
    "\n",
    "$\\quad \\Rightarrow$ Se $P(Relevante|tweet) > P(Irrelevante|tweet)$, então o tweet será classificado como *Relevante*.\n",
    "\n",
    "$\\quad \\Rightarrow$ Se $P(Irrelevante|tweet) > P(Relevante|tweet)$, então o tweet será classificado como *Irrelevante*.\n",
    "\n",
    "\n",
    "<br>\n",
    "\n",
    "A partir deste ponto, vamos denotar $Relevante$ como $R$ e $Irrelevante$ como $I$ para brevidade.\n",
    "\n",
    "O **Teorema de Bayes** vai ser particularmente útil neste caso. Lembre-se que:\n",
    "\n",
    "$\\quad P(R|tweet) = \\frac{P(tweet|R)P(R)}{P(tweet)}$\n",
    "\n",
    "e que:\n",
    "\n",
    "$\\quad P(I|tweet) = \\frac{P(tweet|I)P(I)}{P(tweet)}$\n",
    "\n",
    "\n",
    "<br>\n",
    "Teremos que calcular **TODAS** as probabilidades que se encontram no lado direito das equações acima e com elas calcular $P(R|tweet)$ e $P(I|tweet)$.\n"
   ]
  },
  {
   "cell_type": "markdown",
   "metadata": {},
   "source": [
    "Tweet exemplo fictício a classificar:"
   ]
  },
  {
   "cell_type": "code",
   "execution_count": 61,
   "metadata": {},
   "outputs": [],
   "source": [
    "\n",
    "tw = \"amo coquinha gelada\""
   ]
  },
  {
   "cell_type": "code",
   "execution_count": 19,
   "metadata": {},
   "outputs": [
    {
     "data": {
      "text/plain": [
       "['amo', 'coquinha', 'gelada']"
      ]
     },
     "execution_count": 19,
     "metadata": {},
     "output_type": "execute_result"
    }
   ],
   "source": [
    "#Vamos converter primeiro em minúsculas e fazer a limpeza:\n",
    "tw = cleanup(tw.lower())\n",
    "tw"
   ]
  },
  {
   "cell_type": "markdown",
   "metadata": {},
   "source": [
    "### A ingenuidade - Naïve Bayes\n",
    "\n",
    "Agora vamos à parte ingênua do Naïve Bayes, que consiste em assumir que as palavras são independentes entre si e que sua ordem no tweet não importa. \n",
    "\n",
    "\n",
    "Ou seja:\n",
    "\n",
    "$\\quad P(tweet|R) = \n",
    "P(odeio|R)\\cdot P(batata|R)\\cdot P(frita|R)$\n",
    "\n",
    "\n",
    "<br>\n",
    "\n",
    "Vamos denotar **Relevante** simplesmente como $R$, para encurtar a fórmula a seguir aplicando o uso do Teorema de Bayes.\n",
    "\n",
    "Assim, a fórmula completa fica:\n",
    "\n",
    "$P(R|tweet) = \\frac{P(odeio|R).P(batata|R).P(frita|R).P(R)}{P(tweet)}$\n",
    "\n",
    "<br>\n",
    "\n",
    "Da mesma forma, denotando **Irrelevante** como $I$, a fórmula completa fica:\n",
    "\n",
    "$P(I|tweet) = \\frac{P(odeio|I).P(batata|I).P(frita|I).P(I)}{P(tweet)}$\n",
    "<br>\n",
    "\n",
    "Note que o denominador das duas probabilidade condicionais acima é o mesmo, para fazer a classificação da frase podemos cancelar o cálculo do denominador $P(tweet)$. \n",
    "\n",
    "Assim, a **Classificação do tweet** se dará conforme abaixo:\n",
    "\n",
    "$\\quad \\Rightarrow$ Se $P(R|tweet) > P(I|tweet)$, então frase será classificada como *Relevante*\n",
    "\n",
    "$\\quad \\Rightarrow$ Se $P(R|tweet) < P(I|tweet)$, então frase será classificada como *Irrelevante*"
   ]
  },
  {
   "cell_type": "code",
   "execution_count": 20,
   "metadata": {},
   "outputs": [
    {
     "name": "stdout",
     "output_type": "stream",
     "text": [
      "0.7243765316419202 0.2756234683580799\n"
     ]
    }
   ],
   "source": [
    "#CALCULANDO OS VALORES DOS PRIORS P(R) E P(I)\n",
    "total = len(relevante)+len(irrelevante) \n",
    "P_R = len(relevante)/total\n",
    "P_I = len(irrelevante)/total\n",
    "\n",
    "print(P_R, P_I)"
   ]
  },
  {
   "cell_type": "markdown",
   "metadata": {},
   "source": [
    "Calculando os termos: \n",
    "\n",
    "$\\quad P(tweet|R)$\n",
    "\n",
    "e \n",
    "\n",
    "$\\quad P(tweet|I)$\n",
    "\n",
    "<br>\n",
    "\n",
    "Armazenando o valor de $P(tweet|R)$ e $P(tweet|I)$ nas variáveis `probTweetDadoR` e `probTweetDadoI`."
   ]
  },
  {
   "cell_type": "code",
   "execution_count": 21,
   "metadata": {},
   "outputs": [
    {
     "name": "stdout",
     "output_type": "stream",
     "text": [
      "2.9459888498400543e-08 4.578110960078212e-09\n"
     ]
    }
   ],
   "source": [
    "probTweetDadoR = 1\n",
    "probTweetDadoI = 1\n",
    "\n",
    "for i in tw:\n",
    "    probTweetDadoR *= tabela_relevante_relativa[i]\n",
    "    probTweetDadoI *= tabela_irrelevante_relativa[i]\n",
    "    \n",
    "print(probTweetDadoR, probTweetDadoI)"
   ]
  },
  {
   "cell_type": "markdown",
   "metadata": {},
   "source": [
    "Calculando $P(L|frase)$ e $P(C|frase)$ como indicado acima. "
   ]
  },
  {
   "cell_type": "code",
   "execution_count": 22,
   "metadata": {},
   "outputs": [
    {
     "data": {
      "text/plain": [
       "2.134005185302908e-08"
      ]
     },
     "execution_count": 22,
     "metadata": {},
     "output_type": "execute_result"
    }
   ],
   "source": [
    "P_R_dado_T = probTweetDadoR * P_R\n",
    "P_R_dado_T "
   ]
  },
  {
   "cell_type": "code",
   "execution_count": 23,
   "metadata": {},
   "outputs": [
    {
     "data": {
      "text/plain": [
       "1.2618348213448957e-09"
      ]
     },
     "execution_count": 23,
     "metadata": {},
     "output_type": "execute_result"
    }
   ],
   "source": [
    "P_I_dado_T = probTweetDadoI * P_I\n",
    "P_I_dado_T "
   ]
  },
  {
   "cell_type": "code",
   "execution_count": 24,
   "metadata": {},
   "outputs": [
    {
     "data": {
      "text/plain": [
       "'Comparando as probabilidades acima, o tweet é classificada como Relevante '"
      ]
     },
     "execution_count": 24,
     "metadata": {},
     "output_type": "execute_result"
    }
   ],
   "source": [
    "def classificador(r, i):\n",
    "    if r > i:\n",
    "        return(\"Comparando as probabilidades acima, o tweet é classificada como Relevante \" )\n",
    "    elif i > r:\n",
    "        return(\"Comparando as probabilidades acima, o tweet é classificada como Irrelevante \")\n",
    "    else:\n",
    "        return(\"Não é possível dizer, as probabilidades são iguais.\")\n",
    "    \n",
    "classificador(P_R_dado_T, P_I_dado_T)"
   ]
  },
  {
   "cell_type": "markdown",
   "metadata": {},
   "source": [
    "### Suavização de Laplace: E se a palavra não estiver no conjunto universo? P(palavra|Universo)=0?\n",
    "\n"
   ]
  },
  {
   "cell_type": "markdown",
   "metadata": {},
   "source": [
    "Caso apareça uma palavra estranha ou que não esteja na base de dados, precisamos amplificar nosse leque de equações utilizando um recurso matemático conhecido como <b><em>Suavização de Laplace</em></b>, que consiste em basicamente \"incluir\" a nova palavra no âmbito das probabilidades relativas de uma determinada palavra ser classificada como Relevante ou Irrelevante.\n",
    "\n",
    "Para realizar tal recurso, devemos analisar quantas vezes a palavra analisada aparece no absolutamente na comapração em questão, seja relevante ou irrelavante, somar uma unidade (que evita o <b>0</b>) no numerador, e somar a quantidade de \"possíveis palavras no denominador\", isto é a quantidade de palavras únicas pertencentes ao dataset de tweets relevantes ou irrelevantes. Matematicamente teremos:\n",
    "\n",
    "$$P(palavra1|R) = \\frac{F_{AR}+1}{P_{R}+P_p}$$\n",
    "\n",
    "$$P(palavra1|I) = \\frac{F_{AI}+1}{P_{I}+P_p}$$\n",
    "\n",
    "Onde: \n",
    "\n",
    "$ F_{AR}$: Frequência absoluta da palavra na categoria relevante \n",
    "\n",
    "$ F_{AI}$: Frequência absoluta da palavra na categoria irrelevante \n",
    "    \n",
    "$P_{R}$: Todas as palavras pertencentes aos tweets rotulados como relevantes\n",
    "    \n",
    "$P_{I}$: Todas as palavras pertencentes aos tweets rotulados como irrelevantes\n",
    "\n",
    "$P_p$: Todas as palavras possíveis na base de dados de treinamento"
   ]
  },
  {
   "cell_type": "markdown",
   "metadata": {},
   "source": [
    "Considerando isso, temos agora as probabilidades $P(tweet|R)$ e $P(tweet|I)$ adequadas para receber palavras novas em seu universo."
   ]
  },
  {
   "cell_type": "code",
   "execution_count": 62,
   "metadata": {},
   "outputs": [],
   "source": [
    "Pr = len(relevante)\n",
    "Pi = len(irrelevante)\n",
    "Pp = Pr + Pi\n",
    "\n",
    "\n",
    "def relevancia (tweet):\n",
    "    Far = 0\n",
    "    Fai = 0\n",
    "    probTweetDadoR = 1\n",
    "    probTweetDadoI = 1\n",
    "    for palavra in tweet:\n",
    "        Far = relevante.count(palavra)\n",
    "        Fai= irrelevante.count(palavra)\n",
    "        #print(Far)\n",
    "        probTweetDadoR *= (Far + 1)/(Pr + Pp) \n",
    "        probTweetDadoI *= (Fai + 1)/(Pi + Pp) \n",
    "    if probTweetDadoR > probTweetDadoI:\n",
    "        return 1\n",
    "    else:\n",
    "        return 0\n"
   ]
  },
  {
   "cell_type": "markdown",
   "metadata": {},
   "source": [
    "___\n",
    "### Verificando a performance do Classificador\n",
    "\n",
    "Agora você deve testar o seu classificador com a base de Testes."
   ]
  },
  {
   "cell_type": "code",
   "execution_count": 63,
   "metadata": {},
   "outputs": [],
   "source": [
    "classs = []\n",
    "for i in test[\"Teste\"]:\n",
    "    i = cleanup(i.lower())\n",
    "    classs.append(relevancia(i))\n",
    "\n",
    "classs = pd.Series(classs)\n",
    "test[\"Classificador\"] = classs"
   ]
  },
  {
   "cell_type": "code",
   "execution_count": 28,
   "metadata": {},
   "outputs": [
    {
     "data": {
      "text/html": [
       "<div>\n",
       "<style scoped>\n",
       "    .dataframe tbody tr th:only-of-type {\n",
       "        vertical-align: middle;\n",
       "    }\n",
       "\n",
       "    .dataframe tbody tr th {\n",
       "        vertical-align: top;\n",
       "    }\n",
       "\n",
       "    .dataframe thead th {\n",
       "        text-align: right;\n",
       "    }\n",
       "</style>\n",
       "<table border=\"1\" class=\"dataframe\">\n",
       "  <thead>\n",
       "    <tr style=\"text-align: right;\">\n",
       "      <th></th>\n",
       "      <th>Teste</th>\n",
       "      <th>Relevância</th>\n",
       "      <th>Classificador</th>\n",
       "    </tr>\n",
       "  </thead>\n",
       "  <tbody>\n",
       "    <tr>\n",
       "      <th>0</th>\n",
       "      <td>rt @sysa86: @bbb @cocacola_br o bbb21 virou um...</td>\n",
       "      <td>0</td>\n",
       "      <td>0</td>\n",
       "    </tr>\n",
       "    <tr>\n",
       "      <th>1</th>\n",
       "      <td>@cocacola_br coca cola te amo meu refrigerante...</td>\n",
       "      <td>1</td>\n",
       "      <td>0</td>\n",
       "    </tr>\n",
       "    <tr>\n",
       "      <th>2</th>\n",
       "      <td>@karolinemourab tem vezes que a vontade bate, ...</td>\n",
       "      <td>1</td>\n",
       "      <td>1</td>\n",
       "    </tr>\n",
       "    <tr>\n",
       "      <th>3</th>\n",
       "      <td>@kikiilda sede de coquinha? clica aqui 👉 https...</td>\n",
       "      <td>1</td>\n",
       "      <td>1</td>\n",
       "    </tr>\n",
       "    <tr>\n",
       "      <th>4</th>\n",
       "      <td>@sysa86 @bbb @cocacola_br exatamente e eu amo ...</td>\n",
       "      <td>0</td>\n",
       "      <td>0</td>\n",
       "    </tr>\n",
       "    <tr>\n",
       "      <th>...</th>\n",
       "      <td>...</td>\n",
       "      <td>...</td>\n",
       "      <td>...</td>\n",
       "    </tr>\n",
       "    <tr>\n",
       "      <th>195</th>\n",
       "      <td>@roinuj_s é muito amor envolvido! 🥰 https://t....</td>\n",
       "      <td>0</td>\n",
       "      <td>1</td>\n",
       "    </tr>\n",
       "    <tr>\n",
       "      <th>196</th>\n",
       "      <td>@mazonnys que tal uma oferta para te ajudar a ...</td>\n",
       "      <td>1</td>\n",
       "      <td>1</td>\n",
       "    </tr>\n",
       "    <tr>\n",
       "      <th>197</th>\n",
       "      <td>cocacola melhor refri do mundo. 🤤</td>\n",
       "      <td>1</td>\n",
       "      <td>1</td>\n",
       "    </tr>\n",
       "    <tr>\n",
       "      <th>198</th>\n",
       "      <td>@augustoscarpin oba! 🔥 mas não se esqueça que ...</td>\n",
       "      <td>1</td>\n",
       "      <td>1</td>\n",
       "    </tr>\n",
       "    <tr>\n",
       "      <th>199</th>\n",
       "      <td>@xxjaqueline7 que tal coquinha com pizza? 👉 do...</td>\n",
       "      <td>1</td>\n",
       "      <td>1</td>\n",
       "    </tr>\n",
       "  </tbody>\n",
       "</table>\n",
       "<p>200 rows × 3 columns</p>\n",
       "</div>"
      ],
      "text/plain": [
       "                                                 Teste  Relevância  \\\n",
       "0    rt @sysa86: @bbb @cocacola_br o bbb21 virou um...           0   \n",
       "1    @cocacola_br coca cola te amo meu refrigerante...           1   \n",
       "2    @karolinemourab tem vezes que a vontade bate, ...           1   \n",
       "3    @kikiilda sede de coquinha? clica aqui 👉 https...           1   \n",
       "4    @sysa86 @bbb @cocacola_br exatamente e eu amo ...           0   \n",
       "..                                                 ...         ...   \n",
       "195  @roinuj_s é muito amor envolvido! 🥰 https://t....           0   \n",
       "196  @mazonnys que tal uma oferta para te ajudar a ...           1   \n",
       "197                  cocacola melhor refri do mundo. 🤤           1   \n",
       "198  @augustoscarpin oba! 🔥 mas não se esqueça que ...           1   \n",
       "199  @xxjaqueline7 que tal coquinha com pizza? 👉 do...           1   \n",
       "\n",
       "     Classificador  \n",
       "0                0  \n",
       "1                0  \n",
       "2                1  \n",
       "3                1  \n",
       "4                0  \n",
       "..             ...  \n",
       "195              1  \n",
       "196              1  \n",
       "197              1  \n",
       "198              1  \n",
       "199              1  \n",
       "\n",
       "[200 rows x 3 columns]"
      ]
     },
     "execution_count": 28,
     "metadata": {},
     "output_type": "execute_result"
    }
   ],
   "source": [
    "test # a limpeza é feita apenas para classificar. Mantemos o tweet original no DF"
   ]
  },
  {
   "cell_type": "code",
   "execution_count": 64,
   "metadata": {},
   "outputs": [
    {
     "data": {
      "text/plain": [
       "92.7"
      ]
     },
     "execution_count": 64,
     "metadata": {},
     "output_type": "execute_result"
    }
   ],
   "source": [
    "#Porcentagem de verdadeiros positivos (mensagens relevantes e que são classificadas como relevantes)\n",
    "\n",
    "condicao1 = test.Relevância == 1\n",
    "condicao2 = test.Classificador == 1\n",
    "porcentagem_vp = (test.Teste.loc[condicao1 & condicao2].count()/(test.Relevância == 1).sum())*100\n",
    "porcentagem_vp.round(2)"
   ]
  },
  {
   "cell_type": "code",
   "execution_count": 65,
   "metadata": {},
   "outputs": [
    {
     "data": {
      "text/plain": [
       "17.46"
      ]
     },
     "execution_count": 65,
     "metadata": {},
     "output_type": "execute_result"
    }
   ],
   "source": [
    "#Porcentagem de falsos positivos (mensagens irrelevantes e que são classificadas como relevantes)\n",
    "\n",
    "condicao3 = test.Relevância == 0\n",
    "porcentagem_fp = (test.Teste.loc[condicao3 & condicao2].count()/(test.Relevância == 0).sum())*100\n",
    "porcentagem_fp.round(2)"
   ]
  },
  {
   "cell_type": "code",
   "execution_count": 66,
   "metadata": {},
   "outputs": [
    {
     "data": {
      "text/plain": [
       "82.54"
      ]
     },
     "execution_count": 66,
     "metadata": {},
     "output_type": "execute_result"
    }
   ],
   "source": [
    "#Porcentagem de verdadeiros negativos (mensagens irrelevantes e que são classificadas como irrelevantes)\n",
    "condicao4 = test.Classificador == 0\n",
    "porcentagem_vn = (test.Teste.loc[condicao3 & condicao4].count()/(test.Relevância == 0).sum())*100\n",
    "porcentagem_vn.round(2)"
   ]
  },
  {
   "cell_type": "code",
   "execution_count": 67,
   "metadata": {},
   "outputs": [
    {
     "data": {
      "text/plain": [
       "7.2992700729927"
      ]
     },
     "execution_count": 67,
     "metadata": {},
     "output_type": "execute_result"
    }
   ],
   "source": [
    "#Porcentagem de falsos negativos (mensagens relevantes e que são classificadas como irrelevantes)\n",
    "porcentagem_fn = (test.Teste.loc[condicao1 & condicao4].count()/(test.Relevância == 1).sum())*100\n",
    "porcentagem_fn"
   ]
  },
  {
   "cell_type": "code",
   "execution_count": 68,
   "metadata": {},
   "outputs": [
    {
     "data": {
      "text/html": [
       "<div>\n",
       "<style scoped>\n",
       "    .dataframe tbody tr th:only-of-type {\n",
       "        vertical-align: middle;\n",
       "    }\n",
       "\n",
       "    .dataframe tbody tr th {\n",
       "        vertical-align: top;\n",
       "    }\n",
       "\n",
       "    .dataframe thead th {\n",
       "        text-align: right;\n",
       "    }\n",
       "</style>\n",
       "<table border=\"1\" class=\"dataframe\">\n",
       "  <thead>\n",
       "    <tr style=\"text-align: right;\">\n",
       "      <th>Classificador</th>\n",
       "      <th>0</th>\n",
       "      <th>1</th>\n",
       "    </tr>\n",
       "    <tr>\n",
       "      <th>Relevância</th>\n",
       "      <th></th>\n",
       "      <th></th>\n",
       "    </tr>\n",
       "  </thead>\n",
       "  <tbody>\n",
       "    <tr>\n",
       "      <th>0</th>\n",
       "      <td>82.5</td>\n",
       "      <td>17.5</td>\n",
       "    </tr>\n",
       "    <tr>\n",
       "      <th>1</th>\n",
       "      <td>7.3</td>\n",
       "      <td>92.7</td>\n",
       "    </tr>\n",
       "  </tbody>\n",
       "</table>\n",
       "</div>"
      ],
      "text/plain": [
       "Classificador     0     1\n",
       "Relevância               \n",
       "0              82.5  17.5\n",
       "1               7.3  92.7"
      ]
     },
     "execution_count": 68,
     "metadata": {},
     "output_type": "execute_result"
    }
   ],
   "source": [
    "pd.crosstab(test.Relevância, test.Classificador, normalize = \"index\").round(3)*100"
   ]
  },
  {
   "cell_type": "code",
   "execution_count": 69,
   "metadata": {},
   "outputs": [
    {
     "data": {
      "text/html": [
       "<div>\n",
       "<style scoped>\n",
       "    .dataframe tbody tr th:only-of-type {\n",
       "        vertical-align: middle;\n",
       "    }\n",
       "\n",
       "    .dataframe tbody tr th {\n",
       "        vertical-align: top;\n",
       "    }\n",
       "\n",
       "    .dataframe thead th {\n",
       "        text-align: right;\n",
       "    }\n",
       "</style>\n",
       "<table border=\"1\" class=\"dataframe\">\n",
       "  <thead>\n",
       "    <tr style=\"text-align: right;\">\n",
       "      <th>Classificador</th>\n",
       "      <th>0</th>\n",
       "      <th>1</th>\n",
       "    </tr>\n",
       "    <tr>\n",
       "      <th>Relevância</th>\n",
       "      <th></th>\n",
       "      <th></th>\n",
       "    </tr>\n",
       "  </thead>\n",
       "  <tbody>\n",
       "    <tr>\n",
       "      <th>0</th>\n",
       "      <td>26.0</td>\n",
       "      <td>5.5</td>\n",
       "    </tr>\n",
       "    <tr>\n",
       "      <th>1</th>\n",
       "      <td>5.0</td>\n",
       "      <td>63.5</td>\n",
       "    </tr>\n",
       "  </tbody>\n",
       "</table>\n",
       "</div>"
      ],
      "text/plain": [
       "Classificador     0     1\n",
       "Relevância               \n",
       "0              26.0   5.5\n",
       "1               5.0  63.5"
      ]
     },
     "execution_count": 69,
     "metadata": {},
     "output_type": "execute_result"
    }
   ],
   "source": [
    "pd.crosstab(test.Relevância, test.Classificador, normalize = True).round(3)*100 #em relação ao total"
   ]
  },
  {
   "cell_type": "markdown",
   "metadata": {},
   "source": [
    "___\n",
    "### Concluindo"
   ]
  },
  {
   "cell_type": "markdown",
   "metadata": {},
   "source": [
    "Os percentuais obtidos demonstram que o classificador apresenta um desempenho bom, haja vista que\n",
    "ele acertou em aproximadamente 89,5% dos casos. Além disso, ele acerta mais quando o tweet analisado é relevante.\n",
    "\n",
    "Nosso classificador apresenta algumas limitações, tais como não interpretar corretamente sarcasmo e dupla negação. O sarcasmo é compreendido por nós pois ele está ligado a outros aspectos da comunicação humana, como entonação, gesticulação. Falamos algo mas queremos dizer extamente o oposto. E nosso classificador não consegue interpretar sarcasmo pois analisa apenas as palvras dos tweets, sem informações adicionais. Ele utiliza-se apenas de ferramentas matemáticas probabilísticas.\n",
    "\n",
    "A ferramenta desenvolvida, mesmo apresntando um desempenho muito bom, pode vir a ser melhorada e tornar-se cada vez mais precisa. Para tanto, o financiamento do projeto deve continuar sendo realizado. Com mais financiamento, seria possível, por exemplo, expandir a base de dados de treinamento, o que implicaria em melhora no desempenho do classificador. \n",
    " \n",
    "O classificador poderia ser utilizado em outros contextos, tais como, por exemplo, no diagnóstico de doenças de um paciente. A base poderia ser a descrição de sintomas e, a classificação, a doença diagnosticada. Isso seria útil para auxiliar os médicos em seus diagnósticos de pacientes.\n",
    "Outro cenário de possível uso do classificador seria na classificação de textos por área de conhecimento. Por exemplo: um texto que contenha muitas repetições de palavras como \"derivada\" e \"integral\" poderia ser classificado como da área de exatas. Já um texto com alta repetição de palavras como \"céculas\" e \"mitocôndrias\" poderia ser classificado como da área de biológicas. \n",
    "\n",
    "Não podemos usar o próprio classificador para gerar mais amostras de treinamento pois ele se restringe a apenas ferramentas matemáticas de probabilidade, que ignora todo o contexto do frase e tudo mais que está compreendível para nós por questões culturais. Além disso, a classificação manual recebida pelo classificador na base Treinamento está sujeita ao viés de quem a fez. Esse viés seria retransmitido e diminuiria a acurácia do classificador. "
   ]
  },
  {
   "cell_type": "markdown",
   "metadata": {},
   "source": [
    "___\n",
    "### Qualidade do Classificador a partir de novas separações dos tweets entre Treinamento e Teste\n",
    "\n",
    "Um importante passo no aprendizado de máquina é trabalhar com uma boa base de dados\n",
    "para o treinamento e teste do seu classificador. Entretanto, é razoável pensar que a divisão\n",
    "de dados utilizada até aqui em nosso Classificador representa uma entre muitas possíveis combinações.\n",
    "Assim sendo, aqui o objetivo é avaliar como os tweets contidos na base de dados\n",
    "treinamento podem interferir numa melhor ou não tão boa classificação das mensagens\n",
    "contidas na base de teste. \n",
    "Sendo assim, iremos juntar todos os tweets e criar 100 novas divisões aleatórias."
   ]
  },
  {
   "cell_type": "code",
   "execution_count": 36,
   "metadata": {},
   "outputs": [],
   "source": [
    "\n",
    "percentual_acuracia = [] #lista que guardará a acurácia de cada repetição do loop\n",
    "# novo df com todos tweets\n",
    "dftest = pd.read_excel(filename, sheet_name = 'Teste')\n",
    "dftest = dftest.rename(columns={'Teste':'Todos'})\n",
    "dftrain = pd.read_excel(filename, sheet_name = 'Treinamento')\n",
    "dftrain = dftrain.rename(columns={'Treinamento':'Todos'})\n",
    "dfall = pd.concat([dftest,dftrain])\n"
   ]
  },
  {
   "cell_type": "code",
   "execution_count": 37,
   "metadata": {},
   "outputs": [
    {
     "name": "stderr",
     "output_type": "stream",
     "text": [
      "<ipython-input-37-e2d365b39863>:49: SettingWithCopyWarning: \n",
      "A value is trying to be set on a copy of a slice from a DataFrame.\n",
      "Try using .loc[row_indexer,col_indexer] = value instead\n",
      "\n",
      "See the caveats in the documentation: https://pandas.pydata.org/pandas-docs/stable/user_guide/indexing.html#returning-a-view-versus-a-copy\n",
      "  test2[\"Classificador\"] = classs2\n"
     ]
    }
   ],
   "source": [
    "for i in range(100):\n",
    "    #separando em 2 aleatoriamente, e refazendo todo processo para guardar as acurácias\n",
    "    #separarando em treinamento e teste\n",
    "    train2, test2 = train_test_split(dfall, test_size=0.4)\n",
    "    #separando por relevancia\n",
    "    relevante2 = train2[train2['Relevância']==1]\n",
    "    irrelevante2 = train2[train2['Relevância']==0]\n",
    "    #criando listas com as palavras limpas \n",
    "    lista_relev2 = []\n",
    "    lista_irrelev2 = []\n",
    "    #limpa os tweets e cria banco de palavras relevantes e irrelevantes\n",
    "    for tweet in relevante2[\"Todos\"]:\n",
    "        tweetl = cleanup(tweet)\n",
    "        lista_relev2 += tweetl    \n",
    "    for tweet in irrelevante2[\"Todos\"]:\n",
    "        tweetl = cleanup(tweet)\n",
    "        lista_irrelev2 += tweetl \n",
    "    #Tamanho do universo relevante e irrelevante\n",
    "    Pr = len(relevante2)\n",
    "    Pi = len(irrelevante2)\n",
    "    #Tamanho total\n",
    "    Pp = Pr + Pi\n",
    "    #Definindo frequencia absoluta inicial \n",
    "    Far = 0\n",
    "    Fai = 0\n",
    "    #função que classificará em 0 ou 1, irrelevante ou relevante pela suavização de LaPlace\n",
    "    def relevancia2 (tweet):\n",
    "        Far = 0\n",
    "        Fai = 0\n",
    "        probTweetDadoR = 1\n",
    "        probTweetDadoI = 1\n",
    "        for palavra in tweet:\n",
    "            Far = lista_relev2.count(palavra)\n",
    "            Fai= lista_irrelev2.count(palavra)\n",
    "            probTweetDadoR *= (Far + 1)/(Pr + Pp) \n",
    "            probTweetDadoI *= (Fai + 1)/(Pi + Pp) \n",
    "        if probTweetDadoR > probTweetDadoI:\n",
    "            return 1\n",
    "        else:\n",
    "            return 0\n",
    "    #lista que guardará a classificação\n",
    "    classs2 = []\n",
    "    #limpa os tweets p/ classificar e classifica\n",
    "    for i in test2[\"Todos\"]:\n",
    "        i = cleanup(i.lower())\n",
    "        classs2.append(relevancia2(i))\n",
    "\n",
    "    #adicionando a coluna classificação com valores no df test2\n",
    "    test2[\"Classificador\"] = classs2\n",
    "    #condicições para filtro e obter acurácia\n",
    "    condicao1n = test2.Relevância == 1\n",
    "    condicao2n = test2.Classificador == 1\n",
    "    condicao3n = test2.Relevância == 0\n",
    "    condicao4n = test2.Classificador == 0\n",
    "    porcentagem_vp = (test2.Todos.loc[condicao1n & condicao2n].count()/((test2.Relevância == 0).sum()+(test2.Relevância == 1).sum()))*100\n",
    "    #Porcentagem de verdadeiros negativos (mensagens irrelevantes e que são classificadas como irrelevantes)\n",
    "    porcentagem_vn = (test2.Todos.loc[condicao3n & condicao4n].count()/((test2.Relevância == 0).sum() + (test2.Relevância == 1).sum()))*100\n",
    "    #salvando a acurácia em % na lista\n",
    "    percentual_acuracia.append(porcentagem_vp+porcentagem_vn)\n"
   ]
  },
  {
   "cell_type": "code",
   "execution_count": 50,
   "metadata": {},
   "outputs": [
    {
     "data": {
      "image/png": "[encoded data removed]",
      "text/plain": [
       "<Figure size 432x288 with 1 Axes>"
      ]
     },
     "metadata": {
      "needs_background": "light"
     },
     "output_type": "display_data"
    }
   ],
   "source": [
    "# faixas de AMPLITUDES IGUAIS\n",
    "faixa1 = np.arange(70,90,1.)\n",
    "faixa1\n",
    "\n",
    "# Histograma da variável acurácia em % considerando faixas de AMPLITUDES IGUAIS\n",
    "plt.hist(percentual_acuracia, bins=faixa1, edgecolor='white')\n",
    "plt.title('Acurácia do modelo')\n",
    "plt.ylabel('frequência')\n",
    "plt.xlabel('Porcentagem de acerto(%)')\n",
    "plt.xlim(70,90)\n",
    "plt.show()"
   ]
  },
  {
   "cell_type": "code",
   "execution_count": 53,
   "metadata": {},
   "outputs": [
    {
     "name": "stdout",
     "output_type": "stream",
     "text": [
      "O mínimo da acurácia foi de 72.37 %\n",
      "O máximo da acurácia foi de 85.53 %\n",
      "A média da acurácia foi de 79.11 %\n"
     ]
    }
   ],
   "source": [
    "percentual_acuracia = pd.Series(percentual_acuracia)\n",
    "print(f'O mínimo da acurácia foi de {percentual_acuracia.min():.2f} %')\n",
    "print(f'O máximo da acurácia foi de {percentual_acuracia.max():.2f} %')\n",
    "print(f'A média da acurácia foi de {percentual_acuracia.mean():.2f} %')"
   ]
  },
  {
   "cell_type": "markdown",
   "metadata": {},
   "source": [
    "Baseando-se no histograma acima, é possível observar uma variação considerável da acurácia para variações das planilhas de teste e treinamento. Logo é possivél concluir que ao tomar apenas um único arranjo das bases, há o risco de tanto chegar numa acurácia mais baixa que a melhor possível quanto de ficar próxima da média. Assim, fica ressaltada a desvantagem de dividir a base só uma única vez, visto que essa divisão tem grande probabilidade de não ser a melhor possível."
   ]
  },
  {
   "cell_type": "markdown",
   "metadata": {},
   "source": [
    "___\n",
    "## Aperfeiçoamento:\n",
    "\n",
    "Os trabalhos vão evoluir em conceito dependendo da quantidade de itens avançados:\n",
    "\n",
    "* Limpar: \\n, :, \", ', (, ), etc SEM remover emojis\n",
    "* Corrigir separação de espaços entre palavras e emojis ou entre emojis e emojis\n",
    "* Propor outras limpezas e transformações que não afetem a qualidade da informação ou classificação\n",
    "* Criar categorias intermediárias de relevância baseadas na probabilidade: ex.: muito relevante, relevante, neutro, irrelevante, muito irrelevante (3 categorias: C, mais categorias conta para B)\n",
    "* Explicar por que não posso usar o próprio classificador para gerar mais amostras de treinamento\n",
    "* Propor diferentes cenários para Naïve Bayes fora do contexto do projeto\n",
    "* Sugerir e explicar melhorias reais com indicações concretas de como implementar (indicar como fazer e indicar material de pesquisa)"
   ]
  },
  {
   "cell_type": "markdown",
   "metadata": {},
   "source": [
    "___\n",
    "## Referências"
   ]
  },
  {
   "cell_type": "markdown",
   "metadata": {},
   "source": [
    "[Naive Bayes and Text Classification](https://arxiv.org/pdf/1410.5329.pdf)  **Mais completo**\n",
    "\n",
    "[A practical explanation of a Naive Bayes Classifier](https://monkeylearn.com/blog/practical-explanation-naive-bayes-classifier/) **Mais simples**"
   ]
  },
  {
   "cell_type": "markdown",
   "metadata": {},
   "source": [
    "https://www.datageeks.com.br/naive-bayes/ **Outro contexto de aplicação**"
   ]
  },
  {
   "cell_type": "code",
   "execution_count": null,
   "metadata": {},
   "outputs": [],
   "source": []
  }
 ],
 "metadata": {
  "kernelspec": {
   "display_name": "Python 3",
   "language": "python",
   "name": "python3"
  },
  "language_info": {
   "codemirror_mode": {
    "name": "ipython",
    "version": 3
   },
   "file_extension": ".py",
   "mimetype": "text/x-python",
   "name": "python",
   "nbconvert_exporter": "python",
   "pygments_lexer": "ipython3",
   "version": "3.8.3"
  }
 },
 "nbformat": 4,
 "nbformat_minor": 4
}
